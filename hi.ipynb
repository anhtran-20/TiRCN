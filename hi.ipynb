{
 "cells": [
  {
   "cell_type": "code",
   "execution_count": 3,
   "metadata": {},
   "outputs": [
    {
     "name": "stdout",
     "output_type": "stream",
     "text": [
      "Unique pairs:\n",
      "[1 3 4 6 7 9]\n",
      "\n",
      "Indices to reconstruct original array:\n",
      "[0 2 0 4 2 2 1 3 1 5 3 5]\n",
      "6\n"
     ]
    }
   ],
   "source": [
    "import numpy as np\n",
    "# Create a sample 2D array representing snapshot data\n",
    "snapshot = np.array([\n",
    "    [1, 2, 3],\n",
    "    [4, 5, 6],\n",
    "    [1, 2, 3],\n",
    "    [7, 8, 9],\n",
    "    [4, 5, 6],\n",
    "    [4, 5, 9]\n",
    "])\n",
    "\n",
    "# Use np.unique() with return_inverse=True to find unique pairs and their indices\n",
    "uniq_v, edges = np.unique((snapshot[:, 0], snapshot[:, 2]), return_inverse=True)\n",
    "\n",
    "# Print the unique pairs and their indices\n",
    "print(\"Unique pairs:\")\n",
    "print(uniq_v)\n",
    "print(\"\\nIndices to reconstruct original array:\")\n",
    "print(edges)\n",
    "print(len(uniq_v))"
   ]
  },
  {
   "cell_type": "code",
   "execution_count": null,
   "metadata": {},
   "outputs": [],
   "source": []
  }
 ],
 "metadata": {
  "kernelspec": {
   "display_name": "Python 3",
   "language": "python",
   "name": "python3"
  },
  "language_info": {
   "codemirror_mode": {
    "name": "ipython",
    "version": 3
   },
   "file_extension": ".py",
   "mimetype": "text/x-python",
   "name": "python",
   "nbconvert_exporter": "python",
   "pygments_lexer": "ipython3",
   "version": "3.10.0"
  }
 },
 "nbformat": 4,
 "nbformat_minor": 2
}
